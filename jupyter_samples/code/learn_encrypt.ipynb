{
 "cells": [
  {
   "cell_type": "code",
   "execution_count": 135,
   "metadata": {},
   "outputs": [],
   "source": [
    "import sys\n",
    "import os\n",
    "import json\n",
    "import base64\n",
    "from Crypto.Cipher import AES\n",
    "import numpy as np"
   ]
  },
  {
   "cell_type": "markdown",
   "metadata": {},
   "source": [
    "# 1. RSA非对称加密示例\n",
    "## 1.1 首先利用pip3 install rsa安装对应包\n",
    "## 1.2 OpenSSL和rsa生成的public key, 处理函数也是不同的"
   ]
  },
  {
   "cell_type": "code",
   "execution_count": 154,
   "metadata": {},
   "outputs": [
    {
     "name": "stdout",
     "output_type": "stream",
     "text": [
      "PublicKey(164383768997834869414553736432398372250948031474782903810441874630610283017932513003617175846105584804811589215847463178717320717472411128331203356868275536602696983461117915565244911776091228826020577486263587364887849767804241538169766012818044057441494759162563381996081600304194001823339451274125006990049, 65537)\n",
      "b'\\xaf\\xc8,\\xa5\\xbe/\\xc0\\xdeC[\\xee\\x9a\\xdcZW+\\x9b\\xe3\\xa3{\"\\xe6\\xd6\\x85\\xb6:\\xa9\\\\p\\x8f\\x12\\xb7\\x1c\\n\\xb0\\x1b\\x90\\xd7\\xa5@\\xab\\xd4\\xbd}\\xdeR>\\x04\\x94V8\\x1csC]\\x9f\\x02\\x07\\xd2\\xad\\xc3\\xc38|\\xa9\\xbecd\\xaf\\r\\x12\\xb8\\x92m\\x9c,X\\xb7Dg2\\xec/\\x17)\\xa6\\xaf\\xd7L\\x0bfs\\\\93t\\x9c\\xae}\\xac\\xf0\\xca\\xb2\\xfe\\x12h\\xeb\\xe9\\x8d\\xb6A]5V\\x83\\xbb\\xfcp\\x90\\xb7\\xff#\\xa1\\x04\\x1a\\x85\\x91\\xc9'\n",
      "PrivateKey(164383768997834869414553736432398372250948031474782903810441874630610283017932513003617175846105584804811589215847463178717320717472411128331203356868275536602696983461117915565244911776091228826020577486263587364887849767804241538169766012818044057441494759162563381996081600304194001823339451274125006990049, 65537, 147676255909128061578211785498174871670152986879309676133231240532093489524448702803011502588084782809223600815909108474757174947921108344776659426567840898778506301890380935738278320424797790690839011916148343404916062619835223268654935097308856599868738694231185345297243684568981018728199132951957402108145, 12924645578108683251303544085786674557821722581033304935314576427119510915628753403108665270129180265854591540335818504822826825868545149091133618937257503, 12718628762730824918601677280135758596262374015137165901494431539573421713922225682805770911454832369474517534460425394914653852455847828471148855273789183)\n",
      "\n",
      "decrypted data:\n",
      "\n",
      "b'hello world'\n",
      "\n",
      "Text decrypted data:\n",
      "\n",
      "hello world\n"
     ]
    },
    {
     "data": {
      "text/plain": [
       "0"
      ]
     },
     "execution_count": 154,
     "metadata": {},
     "output_type": "execute_result"
    }
   ],
   "source": [
    "import rsa\n",
    "\n",
    "class LearningRsa:\n",
    "    def start_dec(self, enc_data):\n",
    "        with open('key.pem', mode='r') as f:\n",
    "            prikey = rsa.PrivateKey.load_pkcs1(f.read().encode())\n",
    "            print(prikey)\n",
    "            decrypt_data = rsa.decrypt(enc_data, prikey)\n",
    "            print(\"\\ndecrypted data:\\n\")\n",
    "            print(decrypt_data)\n",
    "            print(\"\\nText decrypted data:\\n\")\n",
    "            print(decrypt_data.decode())\n",
    "        return 0\n",
    "    def start_enc(self, plain_data):\n",
    "        \n",
    "        with open('pub.pem', mode='r') as f:\n",
    "            pubkey = rsa.PublicKey.load_pkcs1_openssl_pem(f.read().encode())\n",
    "            print(pubkey)\n",
    "            crypt_data = rsa.encrypt(plain_data.encode(), pubkey)\n",
    "            print(crypt_data)\n",
    "            \n",
    "            self.start_dec(crypt_data)\n",
    "            \n",
    "        return 0\n",
    "# testing entry\n",
    "obj = LearningRsa()\n",
    "obj.start_enc('hello world')"
   ]
  },
  {
   "cell_type": "markdown",
   "metadata": {},
   "source": [
    "# AES加密示例"
   ]
  },
  {
   "cell_type": "code",
   "execution_count": 46,
   "metadata": {},
   "outputs": [
    {
     "name": "stdout",
     "output_type": "stream",
     "text": [
      "{\"devId\": \"002dj00118fe34d9a124\", \"productKey\": \"HS product key\", \"dataId\": \"1459168450ddfdfoiopiopipooi\", \"status\": [{\"datapoint1\": \"datapoint1value1\", \"t\": \"datapoint1 time\"}, {\"datapoint2\": \"datapoint1value2\", \"t\": \"datapoint2 time\"}]}\n",
      "--above is JSON string data\n",
      "b\"\\x07\\xe0\\xeb4\\xc3\\x96\\xde\\xbf@\\xee\\x82\\xb9j\\x04}\\x8dZH`{\\xce\\xa3$\\x9e2\\xae\\xd3fD\\xe4vl\\x8b`\\xaa\\xa8\\x87la\\xeb\\x19v\\xca\\xb4~\\x8d\\x7f\\xd8\\xa1\\xe6\\xb9\\xe4_<C\\xd4\\xb2T.\\xe8\\x82\\xca\\x8d\\xbe\\x05\\x9aeG\\xe1yF'\\xe5\\x0f\\x9bq\\xa7C\\xb9\\x11*\\\\^3\\xf0\\xea\\xaf\\xd4\\x1dT\\xff\\xd8\\x12XR1\\xdb\\xf5\\x0cB\\x9bn\\xe3\\xe9r\\x0e\\xe6q\\t\\xc2\\xd7\\xad9*\\x04\\xec\\xdba\\xbeF\\xf0&\\x19\\x97\\xfeON4*\\xc78\\xe4\\xc0\\x1d{\\xb8\\xa8\\x120\\xfd\\xf3\\x8ey5\\xcbcm\\xc3\\x99'z\\x0f\\xfc7\\xa7\\xc6\\x1f\\x15X\\x98}\\xe8j\\x9b\\xd4}\\xa3\\xa9\\xa8\\x8c\\xb5\\xeb;\\x82\\xfe2\\x06\\xe9\\xe7OU\\xb6[\\xabZT\\r\\x80\\xdb\\t\\x07C\\x9d-#\\xa7)/^\\xab\\n\\x06s\\x17\\xc7\\xc6\\xc1q\\xa9\\x16fn\\xf2\\x1f\\x9b\\xd1\\x89\\xb1\\xbb\\xa5\\x8b\\xecXX\\x1f\\x92)\\xa3\\x0e\\xba\\xa8<6\\x8e\\xb3\\xdak\\xdf\\x92\\x89\"\n",
      "==Now, try base64\n",
      "b'B+DrNMOW3r9A7oK5agR9jVpIYHvOoySeMq7TZkTkdmyLYKqoh2xh6xl2yrR+jX/Yoea55F88Q9SyVC7ogsqNvgWaZUfheUYn5Q+bcadDuREqXF4z8Oqv1B1U/9gSWFIx2/UMQptu4+lyDuZxCcLXrTkqBOzbYb5G8CYZl/5PTjQqxzjkwB17uKgSMP3zjnk1y2Ntw5kneg/8N6fGHxVYmH3oapvUfaOpqIy16zuC/jIG6edPVbZbq1pUDYDbCQdDnS0jpykvXqsKBnMXx8bBcakWZm7yH5vRibG7pYvsWFgfkimjDrqoPDaOs9pr35KJ'\n",
      "B+DrNMOW3r9A7oK5agR9jVpIYHvOoySeMq7TZkTkdmyLYKqoh2xh6xl2yrR+jX/Yoea55F88Q9SyVC7ogsqNvgWaZUfheUYn5Q+bcadDuREqXF4z8Oqv1B1U/9gSWFIx2/UMQptu4+lyDuZxCcLXrTkqBOzbYb5G8CYZl/5PTjQqxzjkwB17uKgSMP3zjnk1y2Ntw5kneg/8N6fGHxVYmH3oapvUfaOpqIy16zuC/jIG6edPVbZbq1pUDYDbCQdDnS0jpykvXqsKBnMXx8bBcakWZm7yH5vRibG7pYvsWFgfkimjDrqoPDaOs9pr35KJ\n"
     ]
    }
   ],
   "source": [
    "client_secret = 'ARP31iwB9VUxs0ZxQDJaWOk7kRMjTfv9qk1knUC603v1yu2aK4A0gmidPZ3L1eHsr9o7fHaTunxX1voRJjodnYxi0JnkgYd2DRJ80m78eKvoLDiEO7q50CmlfHCSGTDt'\n",
    "client_secret_key = 'ARP31iwB9VUxs0ZxQDJaWOk7kRMjTfv9' # leading 32-byte\n",
    "\n",
    "json_obj = {\n",
    "    \"devId\": \"002dj00118fe34d9a124\",\n",
    "    \"productKey\": \"HS product key\",\n",
    "    \"dataId\": \"1459168450ddfdfoiopiopipooi\",\n",
    "    \"status\": [\n",
    "        {\n",
    "        \"datapoint1\": \"datapoint1value1\",\n",
    "        \"t\": \"datapoint1 time\"\n",
    "        },\n",
    "        {\n",
    "        \"datapoint2\": \"datapoint1value2\",\n",
    "        \"t\": \"datapoint2 time\"\n",
    "        }\n",
    "    ]\n",
    "}\n",
    "\n",
    "print(json.dumps(json_obj))\n",
    "print(\"--above is JSON string data\")\n",
    "raw_string = json.dumps(json_obj)\n",
    "# Step1 : Ecryption, in mulitiple 16 length\n",
    "BS = 16\n",
    "pad = lambda s: s + (BS - len(s) % BS) * chr(0) \n",
    "aes = AES.new(str.encode(client_secret_key), AES.MODE_ECB)\n",
    "enc_data = aes.encrypt(pad(raw_string))\n",
    "print(enc_data)\n",
    "print(\"==Now, try base64\")\n",
    "b64_data = base64.b64encode(enc_data)\n",
    "print(b64_data)\n",
    "print(str(b64_data, encoding='utf-8'))\n",
    "\n"
   ]
  },
  {
   "cell_type": "code",
   "execution_count": 11,
   "metadata": {},
   "outputs": [
    {
     "name": "stdout",
     "output_type": "stream",
     "text": [
      "1233344\n",
      "\n"
     ]
    }
   ],
   "source": [
    "unpad = lambda s: s[:-ord(s[len(s) - 1:])]\n",
    "b = '1233344'\n",
    "c = str(unpad(b))\n",
    "print(b)\n",
    "print(c)"
   ]
  },
  {
   "cell_type": "markdown",
   "metadata": {},
   "source": [
    "# AES解密示例"
   ]
  },
  {
   "cell_type": "code",
   "execution_count": 64,
   "metadata": {},
   "outputs": [
    {
     "name": "stdout",
     "output_type": "stream",
     "text": [
      "b\"\\x07\\xe0\\xeb4\\xc3\\x96\\xde\\xbf@\\xee\\x82\\xb9j\\x04}\\x8dZH`{\\xce\\xa3$\\x9e2\\xae\\xd3fD\\xe4vl\\x8b`\\xaa\\xa8\\x87la\\xeb\\x19v\\xca\\xb4~\\x8d\\x7f\\xd8\\xa1\\xe6\\xb9\\xe4_<C\\xd4\\xb2T.\\xe8\\x82\\xca\\x8d\\xbe\\x05\\x9aeG\\xe1yF'\\xe5\\x0f\\x9bq\\xa7C\\xb9\\x11*\\\\^3\\xf0\\xea\\xaf\\xd4\\x1dT\\xff\\xd8\\x12XR1\\xdb\\xf5\\x0cB\\x9bn\\xe3\\xe9r\\x0e\\xe6q\\t\\xc2\\xd7\\xad9*\\x04\\xec\\xdba\\xbeF\\xf0&\\x19\\x97\\xfeON4*\\xc78\\xe4\\xc0\\x1d{\\xb8\\xa8\\x120\\xfd\\xf3\\x8ey5\\xcbcm\\xc3\\x99'z\\x0f\\xfc7\\xa7\\xc6\\x1f\\x15X\\x98}\\xe8j\\x9b\\xd4}\\xa3\\xa9\\xa8\\x8c\\xb5\\xeb;\\x82\\xfe2\\x06\\xe9\\xe7OU\\xb6[\\xabZT\\r\\x80\\xdb\\t\\x07C\\x9d-#\\xa7)/^\\xab\\n\\x06s\\x17\\xc7\\xc6\\xc1q\\xa9\\x16fn\\xf2\\x1f\\x9b\\xd1\\x89\\xb1\\xbb\\xa5\\x8b\\xecXX\\x1f\\x92)\\xa3\\x0e\\xba\\xa8<6\\x8e\\xb3\\xdak\\xdf\\x92\\x89\"\n",
      "<class 'bytes'>\n",
      "b'{\"devId\": \"002dj00118fe34d9a124\", \"productKey\": \"HS product key\", \"dataId\": \"1459168450ddfdfoiopiopipooi\", \"status\": [{\"datapoint1\": \"datapoint1value1\", \"t\": \"datapoint1 time\"}, {\"datapoint2\": \"datapoint1value2\", \"t\": \"datapoint2 time\"}]}\\x00\\x00'\n",
      "~~~~~obj1     bytes, try byte->string  ~~~~~~~~~~~~~~\n",
      "\n",
      "[b'{\"devId\": \"002dj00118fe34d9a124\", \"productKey\": \"HS product key\", \"dataId\": \"1459168450ddfdfoiopiopipooi\", \"status\": [{\"datapoint1\": \"datapoint1value1\", \"t\": \"datapoint1 time\"}, {\"datapoint2\": \"datapoint1value2\", \"t\": \"datapoint2 time\"}]}', b'', b'']\n",
      "<class 'list'>\n",
      "b'{\"devId\": \"002dj00118fe34d9a124\", \"productKey\": \"HS product key\", \"dataId\": \"1459168450ddfdfoiopiopipooi\", \"status\": [{\"datapoint1\": \"datapoint1value1\", \"t\": \"datapoint1 time\"}, {\"datapoint2\": \"datapoint1value2\", \"t\": \"datapoint2 time\"}]}'\n",
      "{\"devId\": \"002dj00118fe34d9a124\", \"productKey\": \"HS product key\", \"dataId\": \"1459168450ddfdfoiopiopipooi\", \"status\": [{\"datapoint1\": \"datapoint1value1\", \"t\": \"datapoint1 time\"}, {\"datapoint2\": \"datapoint1value2\", \"t\": \"datapoint2 time\"}]}\n",
      "====== SPLIT the  00 =====\n",
      "\n",
      "{\n",
      "  \"devId\": \"002dj00118fe34d9a124\",\n",
      "  \"productKey\": \"HS product key\",\n",
      "  \"dataId\": \"1459168450ddfdfoiopiopipooi\",\n",
      "  \"status\": [\n",
      "    {\n",
      "      \"datapoint1\": \"datapoint1value1\",\n",
      "      \"t\": \"datapoint1 time\"\n",
      "    },\n",
      "    {\n",
      "      \"datapoint2\": \"datapoint1value2\",\n",
      "      \"t\": \"datapoint2 time\"\n",
      "    }\n",
      "  ]\n",
      "}\n",
      "===== END ====\n"
     ]
    }
   ],
   "source": [
    "#client_secret_key = 'uwcusafpsu9w8hsc'\n",
    "raw_json_field = 'B+DrNMOW3r9A7oK5agR9jVpIYHvOoySeMq7TZkTkdmyLYKqoh2xh6xl2yrR+jX/Yoea55F88Q9SyVC7ogsqNvgWaZUfheUYn5Q+bcadDuREqXF4z8Oqv1B1U/9gSWFIx2/UMQptu4+lyDuZxCcLXrTkqBOzbYb5G8CYZl/5PTjQqxzjkwB17uKgSMP3zjnk1y2Ntw5kneg/8N6fGHxVYmH3oapvUfaOpqIy16zuC/jIG6edPVbZbq1pUDYDbCQdDnS0jpykvXqsKBnMXx8bBcakWZm7yH5vRibG7pYvsWFgfkimjDrqoPDaOs9pr35KJ'\n",
    "base64_decrypted = base64.decodebytes(raw_json_field.encode(encoding='utf-8'))\n",
    "print(base64_decrypted)\n",
    "unpad = lambda s: s[:-ord(s[len(s) - 1:])]\n",
    "aes = AES.new(str.encode(client_secret_key), AES.MODE_ECB)\n",
    "\n",
    "obj1 = aes.decrypt(base64_decrypted)\n",
    "print(type(obj1))\n",
    "print(obj1)\n",
    "print(\"~~~~~obj1     bytes, try byte->string  ~~~~~~~~~~~~~~\\n\")\n",
    "m = obj1.split(b'\\x00')\n",
    "print(m)\n",
    "print(type(m))\n",
    "print(m[0])\n",
    "txt_data = str(m[0], encoding='utf-8')\n",
    "print(txt_data)\n",
    "print(\"====== SPLIT the  00 =====\\n\")\n",
    "\n",
    "js = json.loads(txt_data)\n",
    "print(json.dumps(js, indent=2))\n",
    "\n",
    "print(\"===== END ====\")\n",
    "\n"
   ]
  },
  {
   "cell_type": "code",
   "execution_count": 56,
   "metadata": {},
   "outputs": [
    {
     "ename": "UnicodeDecodeError",
     "evalue": "'utf-8' codec can't decode byte 0xc1 in position 0: invalid start byte",
     "output_type": "error",
     "traceback": [
      "\u001b[0;31m---------------------------------------------------------------------------\u001b[0m",
      "\u001b[0;31mUnicodeDecodeError\u001b[0m                        Traceback (most recent call last)",
      "\u001b[0;32m<ipython-input-56-86df2c38b92e>\u001b[0m in \u001b[0;36m<module>\u001b[0;34m\u001b[0m\n\u001b[1;32m      7\u001b[0m \u001b[0;31m#print(aes.decrypt(base64_decrypted))\u001b[0m\u001b[0;34m\u001b[0m\u001b[0;34m\u001b[0m\u001b[0;34m\u001b[0m\u001b[0m\n\u001b[1;32m      8\u001b[0m \u001b[0;34m\u001b[0m\u001b[0m\n\u001b[0;32m----> 9\u001b[0;31m \u001b[0mdecrypted_data\u001b[0m \u001b[0;34m=\u001b[0m \u001b[0mstr\u001b[0m\u001b[0;34m(\u001b[0m\u001b[0munpad\u001b[0m\u001b[0;34m(\u001b[0m\u001b[0maes\u001b[0m\u001b[0;34m.\u001b[0m\u001b[0mdecrypt\u001b[0m\u001b[0;34m(\u001b[0m\u001b[0mbase64_decrypted\u001b[0m\u001b[0;34m)\u001b[0m\u001b[0;34m)\u001b[0m\u001b[0;34m,\u001b[0m \u001b[0mencoding\u001b[0m\u001b[0;34m=\u001b[0m\u001b[0;34m'utf-8'\u001b[0m\u001b[0;34m)\u001b[0m\u001b[0;34m\u001b[0m\u001b[0;34m\u001b[0m\u001b[0m\n\u001b[0m\u001b[1;32m     10\u001b[0m \u001b[0mprint\u001b[0m\u001b[0;34m(\u001b[0m\u001b[0mdecrypted_data\u001b[0m\u001b[0;34m)\u001b[0m\u001b[0;34m\u001b[0m\u001b[0;34m\u001b[0m\u001b[0m\n",
      "\u001b[0;31mUnicodeDecodeError\u001b[0m: 'utf-8' codec can't decode byte 0xc1 in position 0: invalid start byte"
     ]
    }
   ],
   "source": [
    "raw_string = 'XbK9eQwg6S48nQOs/RknbyNYjzN2CK1v8k+g7Q7+AR56vJ2xRjbM7HOA/eE4ClZ0+iAmj9/ZNJ9V/Phl58vlB4s63+1fRD3xirSikEqZk5CI0TcANrTN/UOBIWA8kCqqu2oYz2PWN3oQ8r1WS4s3sRT1lAp0qhxFpmbq3FHIzLG/Vajty/cyrQcfpCDuFLmcOMtqQ7btzTXNBB4yN5XAETMachp4kzMJimUl3w1PKwU='\n",
    "base64_decrypted = base64.decodebytes(raw_string.encode(encoding='utf-8'))\n",
    "clien_secret_key = \"uwcusafpsu9w8hsc\"\n",
    "unpad = lambda s: s[:-ord(s[len(s) - 1:])]\n",
    "aes = AES.new(str.encode(client_secret_key), AES.MODE_ECB)\n",
    "\n",
    "#print(aes.decrypt(base64_decrypted))\n",
    "\n",
    "decrypted_data = str(unpad(aes.decrypt(base64_decrypted)), encoding='utf-8')\n",
    "print(decrypted_data)\n"
   ]
  },
  {
   "cell_type": "code",
   "execution_count": 132,
   "metadata": {},
   "outputs": [
    {
     "ename": "AttributeError",
     "evalue": "module 'Crypto.PublicKey.RSA' has no attribute 'import_key'",
     "output_type": "error",
     "traceback": [
      "\u001b[0;31m---------------------------------------------------------------------------\u001b[0m",
      "\u001b[0;31mAttributeError\u001b[0m                            Traceback (most recent call last)",
      "\u001b[0;32m<ipython-input-132-7f224bd9e4e0>\u001b[0m in \u001b[0;36m<module>\u001b[0;34m\u001b[0m\n\u001b[1;32m      6\u001b[0m \u001b[0mfile_out\u001b[0m \u001b[0;34m=\u001b[0m \u001b[0mopen\u001b[0m\u001b[0;34m(\u001b[0m\u001b[0;34m\"encrypted_data.bin\"\u001b[0m\u001b[0;34m,\u001b[0m \u001b[0;34m\"wb\"\u001b[0m\u001b[0;34m)\u001b[0m\u001b[0;34m\u001b[0m\u001b[0;34m\u001b[0m\u001b[0m\n\u001b[1;32m      7\u001b[0m \u001b[0;34m\u001b[0m\u001b[0m\n\u001b[0;32m----> 8\u001b[0;31m \u001b[0mrecipient_key\u001b[0m \u001b[0;34m=\u001b[0m \u001b[0mRSA\u001b[0m\u001b[0;34m.\u001b[0m\u001b[0mimport_key\u001b[0m\u001b[0;34m(\u001b[0m\u001b[0mopen\u001b[0m\u001b[0;34m(\u001b[0m\u001b[0;34m\"mypub.txt\"\u001b[0m\u001b[0;34m)\u001b[0m\u001b[0;34m.\u001b[0m\u001b[0mread\u001b[0m\u001b[0;34m(\u001b[0m\u001b[0;34m)\u001b[0m\u001b[0;34m)\u001b[0m\u001b[0;34m\u001b[0m\u001b[0;34m\u001b[0m\u001b[0m\n\u001b[0m\u001b[1;32m      9\u001b[0m \u001b[0msession_key\u001b[0m \u001b[0;34m=\u001b[0m \u001b[0mget_random_bytes\u001b[0m\u001b[0;34m(\u001b[0m\u001b[0;36m16\u001b[0m\u001b[0;34m)\u001b[0m\u001b[0;34m\u001b[0m\u001b[0;34m\u001b[0m\u001b[0m\n\u001b[1;32m     10\u001b[0m \u001b[0;34m\u001b[0m\u001b[0m\n",
      "\u001b[0;31mAttributeError\u001b[0m: module 'Crypto.PublicKey.RSA' has no attribute 'import_key'"
     ]
    }
   ],
   "source": [
    "from Crypto.PublicKey import RSA\n",
    "from Crypto.Random import get_random_bytes\n",
    "from Crypto.Cipher import AES, PKCS1_OAEP\n",
    "\n",
    "data = \"I met aliens in UFO. Here is the map.\".encode(\"utf-8\")\n",
    "file_out = open(\"encrypted_data.bin\", \"wb\")\n",
    "\n",
    "recipient_key = RSA.import_key(open(\"mypub.txt\").read())\n",
    "session_key = get_random_bytes(16)\n",
    "\n",
    "# Encrypt the session key with the public RSA key\n",
    "cipher_rsa = PKCS1_OAEP.new(recipient_key)\n",
    "enc_session_key = cipher_rsa.encrypt(session_key)\n",
    "\n",
    "# Encrypt the data with the AES session key\n",
    "cipher_aes = AES.new(session_key, AES.MODE_EAX)\n",
    "ciphertext, tag = cipher_aes.encrypt_and_digest(data)\n",
    "[ file_out.write(x) for x in (enc_session_key, cipher_aes.nonce, tag, ciphertext) ]"
   ]
  },
  {
   "cell_type": "code",
   "execution_count": null,
   "metadata": {},
   "outputs": [],
   "source": []
  }
 ],
 "metadata": {
  "kernelspec": {
   "display_name": "Python 3",
   "language": "python",
   "name": "python3"
  },
  "language_info": {
   "codemirror_mode": {
    "name": "ipython",
    "version": 3
   },
   "file_extension": ".py",
   "mimetype": "text/x-python",
   "name": "python",
   "nbconvert_exporter": "python",
   "pygments_lexer": "ipython3",
   "version": "3.6.8"
  }
 },
 "nbformat": 4,
 "nbformat_minor": 2
}
