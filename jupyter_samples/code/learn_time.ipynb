{
 "cells": [
  {
   "cell_type": "markdown",
   "metadata": {},
   "source": [
    "# 计算$\\delta$的方法"
   ]
  },
  {
   "cell_type": "code",
   "execution_count": 3,
   "metadata": {},
   "outputs": [
    {
     "name": "stdout",
     "output_type": "stream",
     "text": [
      "2019-07-29 05:51:09.134471\n",
      "2019-07-28 05:51:09.134471\n",
      "2019-07-30 05:51:09.134471\n"
     ]
    }
   ],
   "source": [
    "import datetime\n",
    "\n",
    "cur = datetime.datetime.now()\n",
    "yesterday = cur - datetime.timedelta(days = 1)\n",
    "tomorrow = cur + datetime.timedelta(days = 1)\n",
    "print(cur)\n",
    "print(yesterday)\n",
    "print(tomorrow)"
   ]
  },
  {
   "cell_type": "code",
   "execution_count": null,
   "metadata": {},
   "outputs": [],
   "source": []
  }
 ],
 "metadata": {
  "kernelspec": {
   "display_name": "Python 3",
   "language": "python",
   "name": "python3"
  },
  "language_info": {
   "codemirror_mode": {
    "name": "ipython",
    "version": 3
   },
   "file_extension": ".py",
   "mimetype": "text/x-python",
   "name": "python",
   "nbconvert_exporter": "python",
   "pygments_lexer": "ipython3",
   "version": "3.6.8"
  }
 },
 "nbformat": 4,
 "nbformat_minor": 2
}
