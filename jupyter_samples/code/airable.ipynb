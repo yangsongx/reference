{
 "cells": [
  {
   "cell_type": "markdown",
   "metadata": {},
   "source": [
    "# Bugzilla的Rest API调用示例"
   ]
  },
  {
   "cell_type": "code",
   "execution_count": 9,
   "metadata": {},
   "outputs": [],
   "source": [
    "import datetime\n",
    "import requests\n",
    "import json"
   ]
  },
  {
   "cell_type": "markdown",
   "metadata": {},
   "source": [
    "## 获取token"
   ]
  },
  {
   "cell_type": "code",
   "execution_count": 34,
   "metadata": {},
   "outputs": [
    {
     "name": "stdout",
     "output_type": "stream",
     "text": [
      "Good\n",
      "{\"token\":\"1-vIXHkLU3GF\",\"id\":1}\n",
      "1-vIXHkLU3GF\n",
      "The token is 1-vIXHkLU3GF\n",
      "28 active bugs found, 0 bugs fixed\n",
      "Bug-21 : [Memo] - Try store the IoT cmds data to NoSQL instead of MySQL\n",
      "Bug-22 : Change the timezone of Bugzilla\n",
      "Bug-29 : [cloud] Need to separate the product env from the test env in Europe Region\n",
      "Bug-45 : Set to microdot with Long wifi password(such as 27-digit) would be failed to setup the wifi connection.\n",
      "Bug-46 : Provide an architecture design for the multi-region support feature\n",
      "Bug-47 : Create libre cloud platform project for Vodafone\n",
      "Bug-58 : Deploy libre cloud project\n",
      "Bug-60 : Test env deployment is failed in EU region\n",
      "Bug-61 : gitlab's admin email is setting in an incorrect way\n",
      "Bug-63 : Need to support the SSL certificate as Alex Skill requires this.\n",
      "Bug-65 : AWS下两个账号需要关联统一支付费用账单\n",
      "Bug-115 : multi-region-cvm region select\n",
      "Bug-116 : multi-region-IoT endpoint\n",
      "Bug-117 : multi-region-policy mgr\n",
      "Bug-118 : User hama url to do alexa account link\n",
      "Bug-119 : multi-region-account muti region\n",
      "Bug-159 : Data security:encrypt sensitive information to meet GDPR...\n",
      "Bug-162 : Secret mgmt：aws account mgmt\n",
      "Bug-164 : Secret mgmt: system admin account mgmt\n",
      "Bug-166 : Secret mgmt: sensitive information key management\n",
      "Bug-171 : System log: Long-term plan, please consider ELK and other solutions  to visualize the system logs\n",
      "Bug-176 : System monitor: memcache monitor/healthy check/ alerts\n",
      "Bug-178 : system monitor: service/API monitor/alerts\n",
      "Bug-183 : Database mgmt: memcache mgmt\n",
      "Bug-187 : need support custom skill with account\n",
      "Bug-189 : IoT and CVM maintenance\n",
      "Bug-190 : maintenance\n",
      "Bug-193 : new feature evaluation\n",
      "below are resolved bugs\n"
     ]
    },
    {
     "data": {
      "text/plain": [
       "0"
      ]
     },
     "execution_count": 34,
     "metadata": {},
     "output_type": "execute_result"
    }
   ],
   "source": [
    "class Bugzilla:\n",
    "    __bugzilla_url = 'http://devops.hansong-china.com/bugzilla/show_bug.cgi?id='\n",
    "    __auth_url = 'http://devops.hansong-china.com/bugzilla/rest.cgi/login?login=steve.yang@hansong-china.com&password=pwd1013001'\n",
    "    __auth_token = ''\n",
    "    __member_list = ['steve.yang@hansong-china.com']\n",
    "    \n",
    "    def fetch_token(self):\n",
    "        resp = requests.get(self.__auth_url)\n",
    "        if resp.status_code != 200:\n",
    "            print(\"Failed to get token(http got %d)\" %(resp.status_code))\n",
    "            self.__auth_token='BAD'\n",
    "        else:\n",
    "            print(\"Good\")\n",
    "            print(resp.text)\n",
    "            jsdata = json.loads(resp.text)\n",
    "            print(jsdata['token'])\n",
    "            if 'token' in jsdata:\n",
    "                self.__auth_token = jsdata['token']\n",
    "                print(\"The token is %s\" %(self.__auth_token))\n",
    "        return 0\n",
    "    \n",
    "    \n",
    "    def get_active_bug(self, who, last_time = None):\n",
    "        active_bugs = []\n",
    "        resolved_bugs = []\n",
    "        \n",
    "        search_url = 'http://devops.hansong-china.com/bugzilla/rest.cgi/bug?token=%s&assigned_to=%s' \\\n",
    "          %(self.__auth_token, who)\n",
    "        resp = requests.get(search_url)\n",
    "        if resp.status_code != 200:\n",
    "            print(\"incorrect HTML data\")\n",
    "            return (active_bugs, resolved_bugs)\n",
    "        \n",
    "        bugs = json.loads(resp.text)['bugs']\n",
    "        for it in bugs:\n",
    "            if it['status'] != 'RESOLVED' and it['status'] != 'VERIFIED':\n",
    "                item = {\n",
    "                    'bugid': it['id'],\n",
    "                    'project': it['product'],\n",
    "                    'title': it['summary'],\n",
    "                    'realname': it['assigned_to_detail']['real_name'],\n",
    "                    'url': '%s%d' %(self.__bugzilla_url , it['id'])\n",
    "                }\n",
    "                \n",
    "                active_bugs.append(item)\n",
    "           \n",
    "                \n",
    "        # need time for the resolved bug cases..   \n",
    "        search_url = 'http://devops.hansong-china.com/bugzilla/rest.cgi/bug?token=%s&assigned_to=%s&last_change_time=%s' \\\n",
    "          %(self.__auth_token, who, last_time)\n",
    "        resp = requests.get(search_url)\n",
    "        if resp.status_code != 200:\n",
    "            print(\"incorrect HTML data\")\n",
    "            return (active_bugs, resolved_bugs)\n",
    "        \n",
    "        bugs = json.loads(resp.text)['bugs']\n",
    "        for it in bugs:\n",
    "            if it['status'] == 'RESOLVED' or it['status'] == 'VERIFIED':\n",
    "                item = {\n",
    "                    'bugid': it['id'],\n",
    "                    'project': it['product'],\n",
    "                    'title': it['summary'],\n",
    "                    'realname': it['assigned_to_detail']['real_name'],\n",
    "                    'url': '%s%d' %(self.__bugzilla_url , it['id'])\n",
    "                }\n",
    "                \n",
    "                resolved_bugs.append(item)\n",
    "           \n",
    "        \n",
    "        return (active_bugs, resolved_bugs)\n",
    "    \n",
    "    def fetch_bug(self, who, last_time):\n",
    "        bug_list = []\n",
    "        search_url = 'http://devops.hansong-china.com/bugzilla/rest.cgi/bug?token=%s&assigned_to=%s' %(self.__auth_token, who)\n",
    "        resp = requests.get(search_url)\n",
    "        if resp.status_code != 200:\n",
    "            print(\"incorrect HTML data\")\n",
    "            return bug_list\n",
    "        \n",
    "        # parse these data\n",
    "        bugs = json.loads(resp.text)['bugs']\n",
    "        print(\"there are totally %d bugs for %s\" %(len(bugs), who))\n",
    "        \n",
    "        search_url = 'http://devops.hansong-china.com/bugzilla/rest.cgi/bug?token=%s&assigned_to=%s&last_change_time=%s' \\\n",
    "          %(self.__auth_token, who, last_time)\n",
    "        resp = requests.get(search_url)\n",
    "        if resp.status_code != 200:\n",
    "            print(\"incorrect HTML data\")\n",
    "            return bug_list\n",
    "        \n",
    "        # parse these data\n",
    "        bugs = json.loads(resp.text)['bugs']\n",
    "        print(\"After checking with time, there are totally %d bugs for %s\" %(len(bugs), who))\n",
    "        \n",
    "        return bug_list\n",
    "    \n",
    "    def start(self):\n",
    "        self.fetch_token()\n",
    "        if self.__auth_token == 'BAD':\n",
    "            print(\"Bad token, refuse to do this!\")\n",
    "            return -1\n",
    "        \n",
    "        for it in self.__member_list:\n",
    "            self.fetch_bug(it, '2019-08-30T02:37:55Z')\n",
    "        \n",
    "        return 0\n",
    "    \n",
    "    def weekly_report(self):\n",
    "        # Just fetching report data from DB!\n",
    "        cur = datetime.datetime.now()\n",
    "        return 0\n",
    "    \n",
    "    \n",
    "    ## daily script would run below util\n",
    "    def daily_report(self):\n",
    "        cur = datetime.datetime.now()\n",
    "        yesterday = cur - datetime.timedelta(days = 1)\n",
    "        self.fetch_token()\n",
    "        if self.__auth_token == 'BAD':\n",
    "            print(\"Bad token, refuse to do this!\")\n",
    "            return -1\n",
    "        \n",
    "        for it in self.__member_list:\n",
    "            (active_bugs, resolved_bugs) = self.get_active_bug(it, yesterday)\n",
    "            print(\"%d active bugs found, %d bugs fixed\" %(len(active_bugs), len(resolved_bugs)))\n",
    "            for bugit in active_bugs:\n",
    "                print(\"Bug-%s : %s\" %(bugit['bugid'], bugit['title']))\n",
    "            print(\"below are resolved bugs\")\n",
    "            for bugit in resolved_bugs:\n",
    "                print(\"Bug-%s : %s\" %(bugit['bugid'], bugit['title']))\n",
    "        return 0\n",
    "    \n",
    "## Trigger the code...\n",
    "bug = Bugzilla()\n",
    "bug.daily_report()"
   ]
  },
  {
   "cell_type": "code",
   "execution_count": null,
   "metadata": {},
   "outputs": [],
   "source": [
    "## 格式化日期的示例"
   ]
  },
  {
   "cell_type": "code",
   "execution_count": 13,
   "metadata": {},
   "outputs": [
    {
     "name": "stdout",
     "output_type": "stream",
     "text": [
      "Good\n",
      "{\"token\":\"1-L1oiwRG8O8\",\"id\":1}\n"
     ]
    },
    {
     "data": {
      "text/plain": [
       "0"
      ]
     },
     "execution_count": 13,
     "metadata": {},
     "output_type": "execute_result"
    }
   ],
   "source": [
    "bug = Bugzilla()\n",
    "bug.start()"
   ]
  },
  {
   "cell_type": "markdown",
   "metadata": {},
   "source": [
    "## 周的操作\n",
    "### .weekday()返回0对应周一，$\\cdots$, 6对应周日"
   ]
  },
  {
   "cell_type": "code",
   "execution_count": 10,
   "metadata": {},
   "outputs": [
    {
     "name": "stdout",
     "output_type": "stream",
     "text": [
      "0\n",
      "2019-08-26 03:56:30.624514\n",
      "2019-08-31 03:56:30.624514\n"
     ]
    }
   ],
   "source": [
    "today = datetime.datetime.now()\n",
    "dow = today.weekday()\n",
    "print(dow)\n",
    "\n",
    "from_date = today + datetime.timedelta(days = -dow)\n",
    "to_date = from_date + datetime.timedelta(days = 5)\n",
    "print(from_date)\n",
    "print(to_date)"
   ]
  },
  {
   "cell_type": "code",
   "execution_count": null,
   "metadata": {},
   "outputs": [],
   "source": []
  }
 ],
 "metadata": {
  "kernelspec": {
   "display_name": "Python 3",
   "language": "python",
   "name": "python3"
  },
  "language_info": {
   "codemirror_mode": {
    "name": "ipython",
    "version": 3
   },
   "file_extension": ".py",
   "mimetype": "text/x-python",
   "name": "python",
   "nbconvert_exporter": "python",
   "pygments_lexer": "ipython3",
   "version": "3.6.8"
  }
 },
 "nbformat": 4,
 "nbformat_minor": 2
}
