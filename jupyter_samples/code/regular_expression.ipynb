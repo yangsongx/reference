{
 "cells": [
  {
   "cell_type": "markdown",
   "metadata": {},
   "source": [
    "# 正则表达式\n"
   ]
  },
  {
   "cell_type": "code",
   "execution_count": 47,
   "metadata": {},
   "outputs": [],
   "source": [
    "import re"
   ]
  },
  {
   "cell_type": "code",
   "execution_count": 48,
   "metadata": {},
   "outputs": [],
   "source": [
    "original_string = [\n",
    "    '1) \"_kombu.binding.celery\"',\n",
    "    '34)\"no blank case\"',\n",
    "    '90)  \"extra blank space\"'\n",
    "]\n",
    "\n"
   ]
  },
  {
   "cell_type": "code",
   "execution_count": 49,
   "metadata": {},
   "outputs": [
    {
     "name": "stdout",
     "output_type": "stream",
     "text": [
      "原始数据:1) \"_kombu.binding.celery\", 抽取数据1：1, 抽取数据2: _kombu.binding.celery\n"
     ]
    }
   ],
   "source": [
    "ret = re.search(r'(\\d+)\\)\\s+\\\"(.*)\\\"', original_string[0])\n",
    "print(\"原始数据:%s, 抽取数据1：%s, 抽取数据2: %s\" %(original_string[0], ret.group(1), ret.group(2)))"
   ]
  },
  {
   "cell_type": "code",
   "execution_count": 50,
   "metadata": {},
   "outputs": [
    {
     "name": "stdout",
     "output_type": "stream",
     "text": [
      "原始数据:90)  \"extra blank space\", 抽取数据1：90, 抽取数据2: extra blank space\n"
     ]
    }
   ],
   "source": [
    "ret = re.search(r'(\\d+)\\)\\s+\\\"(.*)\\\"', original_string[2])\n",
    "print(\"原始数据:%s, 抽取数据1：%s, 抽取数据2: %s\" %(original_string[2], ret.group(1), ret.group(2)))"
   ]
  },
  {
   "cell_type": "markdown",
   "metadata": {},
   "source": [
    "## 长串数据匹配多个不同区域的示例："
   ]
  },
  {
   "cell_type": "code",
   "execution_count": 51,
   "metadata": {},
   "outputs": [],
   "source": [
    "original = 'Uptime: 606704  Threads: 2  Questions: 36003  Slow queries: 0  Opens: 15  Flush tables: 1  Open tables: 8  Queries per second avg: 0.059'"
   ]
  },
  {
   "cell_type": "code",
   "execution_count": 52,
   "metadata": {},
   "outputs": [
    {
     "name": "stdout",
     "output_type": "stream",
     "text": [
      "抽取数据1：606704, 抽取数据2:36003, 3rd:0, 4th:0.059\n"
     ]
    }
   ],
   "source": [
    "ret = re.search(r'Uptime:\\s+(\\d+).*Questions:\\s+(\\d+).*Slow queries:\\s+(\\d+).*Queries per second avg:\\s+(.*)', original)\n",
    "if ret != None:\n",
    "    print(\"抽取数据1：%s, 抽取数据2:%s, 3rd:%s, 4th:%s\" %(ret.group(1), ret.group(2), ret.group(3), ret.group(4)))\n",
    "else:\n",
    "    print(\"Failed to search\")"
   ]
  },
  {
   "cell_type": "code",
   "execution_count": 54,
   "metadata": {},
   "outputs": [
    {
     "name": "stdout",
     "output_type": "stream",
     "text": [
      "Good\n",
      "363\n"
     ]
    }
   ],
   "source": [
    "value = \"Tasks: 363 total,\"\n",
    "ret = re.search(r'Tasks:\\s+(\\d+)', value)\n",
    "if ret != None:\n",
    "    print(\"Good\")\n",
    "    print(ret.group(1))\n",
    "else:\n",
    "    print(\"Not found\")"
   ]
  },
  {
   "cell_type": "code",
   "execution_count": null,
   "metadata": {},
   "outputs": [],
   "source": []
  }
 ],
 "metadata": {
  "kernelspec": {
   "display_name": "Python 3",
   "language": "python",
   "name": "python3"
  },
  "language_info": {
   "codemirror_mode": {
    "name": "ipython",
    "version": 3
   },
   "file_extension": ".py",
   "mimetype": "text/x-python",
   "name": "python",
   "nbconvert_exporter": "python",
   "pygments_lexer": "ipython3",
   "version": "3.6.8"
  }
 },
 "nbformat": 4,
 "nbformat_minor": 2
}
