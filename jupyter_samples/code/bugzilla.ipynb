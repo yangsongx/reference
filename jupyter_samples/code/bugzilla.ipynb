{
 "cells": [
  {
   "cell_type": "markdown",
   "metadata": {},
   "source": [
    "# 时间相关包一般使用datetime"
   ]
  },
  {
   "cell_type": "code",
   "execution_count": 3,
   "metadata": {},
   "outputs": [
    {
     "name": "stdout",
     "output_type": "stream",
     "text": [
      "2019-08-26 03:26:25.435398\n",
      "2019-08-25 03:26:25.435398\n",
      "2019-08-27 03:26:25.435398\n"
     ]
    }
   ],
   "source": [
    "import datetime\n",
    "\n",
    "cur = datetime.datetime.now()\n",
    "yesterday = cur - datetime.timedelta(days = 1)\n",
    "tomorrow = cur + datetime.timedelta(days = 1)\n",
    "print(cur)\n",
    "print(yesterday)\n",
    "print(tomorrow)"
   ]
  },
  {
   "cell_type": "markdown",
   "metadata": {},
   "source": [
    "# 计算$\\delta$的方法\n",
    "## 通常都是调用datetime.timedelta(),里面可填负数，表示向前计算"
   ]
  },
  {
   "cell_type": "code",
   "execution_count": 12,
   "metadata": {},
   "outputs": [
    {
     "name": "stdout",
     "output_type": "stream",
     "text": [
      "2019-08-27 07:59:28.848522\n",
      "2019-08-26 07:59:28.848522\n",
      "2019-08-28 07:59:28.848522\n"
     ]
    }
   ],
   "source": [
    "cur = datetime.datetime.now()\n",
    "yesterday = cur - datetime.timedelta(days = 1)\n",
    "tomorrow = cur + datetime.timedelta(days = 1)\n",
    "print(cur)\n",
    "print(yesterday)\n",
    "print(tomorrow)"
   ]
  },
  {
   "cell_type": "markdown",
   "metadata": {},
   "source": [
    "## 格式化日期的示例"
   ]
  },
  {
   "cell_type": "code",
   "execution_count": 11,
   "metadata": {},
   "outputs": [
    {
     "name": "stdout",
     "output_type": "stream",
     "text": [
      "08/26\n"
     ]
    }
   ],
   "source": [
    "today = datetime.datetime.now()\n",
    "mmdd = today.strftime('%m/%d')\n",
    "print(mmdd)"
   ]
  },
  {
   "cell_type": "markdown",
   "metadata": {},
   "source": [
    "## 周的操作\n",
    "### .weekday()返回0对应周一，$\\cdots$, 6对应周日"
   ]
  },
  {
   "cell_type": "code",
   "execution_count": 10,
   "metadata": {},
   "outputs": [
    {
     "name": "stdout",
     "output_type": "stream",
     "text": [
      "0\n",
      "2019-08-26 03:56:30.624514\n",
      "2019-08-31 03:56:30.624514\n"
     ]
    }
   ],
   "source": [
    "today = datetime.datetime.now()\n",
    "dow = today.weekday()\n",
    "print(dow)\n",
    "\n",
    "from_date = today + datetime.timedelta(days = -dow)\n",
    "to_date = from_date + datetime.timedelta(days = 5)\n",
    "print(from_date)\n",
    "print(to_date)"
   ]
  },
  {
   "cell_type": "code",
   "execution_count": null,
   "metadata": {},
   "outputs": [],
   "source": []
  }
 ],
 "metadata": {
  "kernelspec": {
   "display_name": "Python 3",
   "language": "python",
   "name": "python3"
  },
  "language_info": {
   "codemirror_mode": {
    "name": "ipython",
    "version": 3
   },
   "file_extension": ".py",
   "mimetype": "text/x-python",
   "name": "python",
   "nbconvert_exporter": "python",
   "pygments_lexer": "ipython3",
   "version": "3.6.8"
  }
 },
 "nbformat": 4,
 "nbformat_minor": 2
}
